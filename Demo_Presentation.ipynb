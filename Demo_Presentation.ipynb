{
 "cells": [
  {
   "cell_type": "code",
   "execution_count": null,
   "metadata": {},
   "outputs": [],
   "source": [
    "import cv2\n",
    "import numpy as np\n",
    "import matplotlib.pyplot as plt\n",
    "from extract_text_module import ImageProcessor\n",
    "from text_to_json_module import TextExtractor\n",
    "\n",
    "image_path = '/home/najam/Documents/dip/cardconnect-dip-project/image_downloads/image_35.jpg'\n",
    "\n",
    "# Create an ImageProcessor object\n",
    "image_processor = ImageProcessor()\n",
    "detected_entities = image_processor.process_image(image_path, deskew=True, showROI=True)\n",
    "print(detected_entities)"
   ]
  },
  {
   "cell_type": "code",
   "execution_count": null,
   "metadata": {},
   "outputs": [],
   "source": [
    "from extract_text_module import ImageProcessor\n",
    "from text_to_json_module import TextExtractor\n",
    "\n",
    "#convert list to string\n",
    "string = \"\\n\".join(detected_entities)\n",
    "\n",
    "\n",
    "text_extractor = TextExtractor()\n",
    "\n",
    "\n",
    "print(string)\n",
    "\n",
    "extracted_data = text_extractor.extract_info_from_list(string)\n",
    "print(extracted_data)"
   ]
  }
 ],
 "metadata": {
  "kernelspec": {
   "display_name": "Python 3",
   "language": "python",
   "name": "python3"
  },
  "language_info": {
   "codemirror_mode": {
    "name": "ipython",
    "version": 3
   },
   "file_extension": ".py",
   "mimetype": "text/x-python",
   "name": "python",
   "nbconvert_exporter": "python",
   "pygments_lexer": "ipython3",
   "version": "3.11.4"
  }
 },
 "nbformat": 4,
 "nbformat_minor": 2
}
