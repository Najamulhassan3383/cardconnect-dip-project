{
 "cells": [
  {
   "cell_type": "code",
   "execution_count": 3,
   "metadata": {},
   "outputs": [],
   "source": [
    "import cv2\n",
    "import numpy as np\n",
    "import matplotlib.pyplot as plt\n",
    "from extract_text_module import ImageProcessor\n",
    "from text_to_json_module import TextExtractor\n",
    "\n",
    "image_path = 'image_downloads/image_540.jpg'\n",
    "\n",
    "# Create an ImageProcessor object\n",
    "image_processor = ImageProcessor()\n",
    "detected_entities = image_processor.process_image(image_path, deskew=True, showROI=True)\n",
    "print(detected_entities)"
   ]
  },
  {
   "cell_type": "code",
   "execution_count": 2,
   "metadata": {},
   "outputs": [
    {
     "name": "stdout",
     "output_type": "stream",
     "text": [
      "{\n",
      "    \"entities\": [\n",
      "        {\n",
      "            \"Entity\": \"FES 3\",\n",
      "            \"Phone\": null,\n",
      "            \"Email\": null\n",
      "        },\n",
      "        {\n",
      "            \"Entity\": \"\\u00a9 _ DAVID PACKARD ELECTRICAL ENGINEERING :\",\n",
      "            \"Phone\": null,\n",
      "            \"Email\": null\n",
      "        },\n",
      "        {\n",
      "            \"Entity\": \"STANFORD UNIVERSITY FAX: (650) 723-1882\",\n",
      "            \"Phone\": \"(650) 723-1882\",\n",
      "            \"Email\": null\n",
      "        },\n",
      "        {\n",
      "            \"Entity\": \"bees ee\",\n",
      "            \"Phone\": null,\n",
      "            \"Email\": null\n",
      "        },\n",
      "        {\n",
      "            \"Entity\": \"ae \\u2014\",\n",
      "            \"Phone\": null,\n",
      "            \"Email\": null\n",
      "        },\n",
      "        {\n",
      "            \"Entity\": \"STANFORD, CALIFORNIA 94305-9505 \\u2014 vlaneesanfordctn\",\n",
      "            \"Phone\": \" 94305-9505\",\n",
      "            \"Email\": null\n",
      "        },\n",
      "        {\n",
      "            \"Entity\": \"ee\",\n",
      "            \"Phone\": null,\n",
      "            \"Email\": null\n",
      "        },\n",
      "        {\n",
      "            \"Entity\": \"\\\\ RAFAEL ULATE\",\n",
      "            \"Phone\": null,\n",
      "            \"Email\": null\n",
      "        },\n",
      "        {\n",
      "            \"Entity\": \"S 3\",\n",
      "            \"Phone\": null,\n",
      "            \"Email\": null\n",
      "        },\n",
      "        {\n",
      "            \"Entity\": \"a.\",\n",
      "            \"Phone\": null,\n",
      "            \"Email\": null\n",
      "        },\n",
      "        {\n",
      "            \"Entity\": \"350 SERRA MALL, ROOM 170 TEL: (650) 725-9327\",\n",
      "            \"Phone\": \"350\",\n",
      "            \"Email\": null\n",
      "        },\n",
      "        {\n",
      "            \"Entity\": \"= DEPARTMENT OF ELECTRICAL ENGINEERING\",\n",
      "            \"Phone\": null,\n",
      "            \"Email\": null\n",
      "        },\n",
      "        {\n",
      "            \"Entity\": \"DIRECTOR OF ADMISSIONS\",\n",
      "            \"Phone\": null,\n",
      "            \"Email\": null\n",
      "        }\n",
      "    ]\n",
      "}\n"
     ]
    }
   ],
   "source": [
    "text_extractor = TextExtractor()\n",
    "extracted_data = text_extractor.extract_info_from_list(detected_entities)\n",
    "print(extracted_data)"
   ]
  }
 ],
 "metadata": {
  "kernelspec": {
   "display_name": "Python 3",
   "language": "python",
   "name": "python3"
  },
  "language_info": {
   "codemirror_mode": {
    "name": "ipython",
    "version": 3
   },
   "file_extension": ".py",
   "mimetype": "text/x-python",
   "name": "python",
   "nbconvert_exporter": "python",
   "pygments_lexer": "ipython3",
   "version": "3.11.5"
  }
 },
 "nbformat": 4,
 "nbformat_minor": 2
}
