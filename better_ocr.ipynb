{
 "cells": [
  {
   "cell_type": "code",
   "execution_count": null,
   "metadata": {},
   "outputs": [],
   "source": [
    "\n",
    "import cv2\n",
    "import numpy as np\n",
    "import pytesseract\n",
    "from matplotlib import pyplot as plt\n",
    "\n",
    "pytesseract.pytesseract.tesseract_cmd = r'C:\\Program Files\\Tesseract-OCR\\tesseract.exe'\n",
    "\n",
    "image = cv2.imread(\"image_downloads/image_540.jpg\")\n",
    "base_image = image.copy()\n",
    "\n",
    "gray = cv2.cvtColor(image, cv2.COLOR_BGR2GRAY)\n",
    "blur = cv2.GaussianBlur(gray, (7,7), 0)\n",
    "thresh = cv2.threshold(blur, 0, 255, cv2.THRESH_BINARY_INV + cv2.THRESH_OTSU)[1]\n",
    "\n",
    "kernal = cv2.getStructuringElement(cv2.MORPH_RECT, (50, 20))\n",
    "dilate = cv2.dilate(thresh, kernal, iterations=1)\n",
    "\n",
    "cv2.imwrite(\"temp/sample_dilated.png\", dilate)\n"
   ]
  },
  {
   "cell_type": "code",
   "execution_count": null,
   "metadata": {},
   "outputs": [],
   "source": [
    "\n",
    "\n",
    "cnts = cv2.findContours(dilate, cv2.RETR_EXTERNAL, cv2.CHAIN_APPROX_SIMPLE)\n",
    "cnts = cnts[0] if len(cnts) == 2 else cnts[1]\n",
    "cnts = sorted(cnts, key=lambda x: cv2.boundingRect(x)[1])\n",
    "results = []\n",
    "\n",
    "for c in cnts:\n",
    "    x,y,w,h = cv2.boundingRect(c)\n",
    "    contour_area = cv2.contourArea(c)\n",
    "    min_contour_area = 5000\n",
    "    max_contour_area = 1000000\n",
    "\n",
    "    # Filter contours based on size\n",
    "    if min_contour_area < contour_area < max_contour_area:\n",
    "        roi = base_image[y:y+h, x:x+w]\n",
    "        cv2.rectangle(image, (x,y), (x+w, y+h), (36, 255, 12), 2)\n",
    "        plt.imshow(roi)\n",
    "        plt.show()\n",
    "        ocr_result = pytesseract.image_to_string(roi, lang='eng', config='--psm 6')\n",
    "        ocr_result = ocr_result.split('\\n')\n",
    "        for item in ocr_result:\n",
    "            results.append(item)\n",
    "\n",
    "cv2.imwrite(\"temp/sample_boxes.png\", image)\n"
   ]
  },
  {
   "cell_type": "code",
   "execution_count": null,
   "metadata": {},
   "outputs": [],
   "source": [
    "\n",
    "figure = plt.figure(figsize=(10,10))\n",
    "plt.subplot(311),plt.imshow(base_image),plt.title('Original')\n",
    "plt.subplot(312),plt.imshow(dilate, cmap='gray'),plt.title('Dilated')\n",
    "plt.subplot(313),plt.imshow(image),plt.title('With Boxes')\n",
    "plt.tight_layout()\n",
    "plt.show()\n"
   ]
  },
  {
   "cell_type": "code",
   "execution_count": null,
   "metadata": {},
   "outputs": [],
   "source": [
    "entities = []\n",
    "for item in results:\n",
    "    item = item.strip().replace('\\n', '').replace('\\x0c', '')\n",
    "\n",
    "    if len(item) > 0:\n",
    "        entities.append(item)\n",
    "\n",
    "entities = list(set(entities))\n",
    "print(entities)\n"
   ]
  },
  {
   "cell_type": "code",
   "execution_count": null,
   "metadata": {},
   "outputs": [],
   "source": [
    "\n",
    "ocr_result_original = pytesseract.image_to_string(base_image)\n",
    "print(\"original:\")\n",
    "print(ocr_result_original)\n",
    "\n",
    "print(\"new:\")\n",
    "for item in entities:\n",
    "    print(item)"
   ]
  }
 ],
 "metadata": {
  "kernelspec": {
   "display_name": "Python 3",
   "language": "python",
   "name": "python3"
  },
  "language_info": {
   "codemirror_mode": {
    "name": "ipython",
    "version": 3
   },
   "file_extension": ".py",
   "mimetype": "text/x-python",
   "name": "python",
   "nbconvert_exporter": "python",
   "pygments_lexer": "ipython3",
   "version": "3.11.5"
  }
 },
 "nbformat": 4,
 "nbformat_minor": 2
}
